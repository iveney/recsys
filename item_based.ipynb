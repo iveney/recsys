{
 "cells": [
  {
   "cell_type": "code",
   "execution_count": 1,
   "metadata": {
    "collapsed": true
   },
   "outputs": [],
   "source": [
    "import pandas as pd\n",
    "import numpy as np\n",
    "from scipy import sparse\n",
    "from scipy.sparse.linalg import norm"
   ]
  },
  {
   "cell_type": "code",
   "execution_count": 2,
   "metadata": {
    "collapsed": false
   },
   "outputs": [],
   "source": [
    "# good article: http://blog.ethanrosenthal.com/2015/11/02/intro-to-collaborative-filtering/\n",
    "movies = pd.read_csv('ml-latest-small/movies.csv')\n",
    "tags = pd.read_csv('ml-latest-small/tags.csv')\n",
    "ratings = pd.read_csv('ml-latest-small/ratings.csv')\n",
    "links = pd.read_csv('ml-latest-small/links.csv')"
   ]
  },
  {
   "cell_type": "code",
   "execution_count": 3,
   "metadata": {
    "collapsed": false,
    "scrolled": false
   },
   "outputs": [
    {
     "data": {
      "text/html": [
       "<div>\n",
       "<table border=\"1\" class=\"dataframe\">\n",
       "  <thead>\n",
       "    <tr style=\"text-align: right;\">\n",
       "      <th></th>\n",
       "      <th>title</th>\n",
       "      <th>genres</th>\n",
       "      <th>id</th>\n",
       "    </tr>\n",
       "    <tr>\n",
       "      <th>movieId</th>\n",
       "      <th></th>\n",
       "      <th></th>\n",
       "      <th></th>\n",
       "    </tr>\n",
       "  </thead>\n",
       "  <tbody>\n",
       "    <tr>\n",
       "      <th>1</th>\n",
       "      <td>Toy Story (1995)</td>\n",
       "      <td>Adventure|Animation|Children|Comedy|Fantasy</td>\n",
       "      <td>0</td>\n",
       "    </tr>\n",
       "    <tr>\n",
       "      <th>2</th>\n",
       "      <td>Jumanji (1995)</td>\n",
       "      <td>Adventure|Children|Fantasy</td>\n",
       "      <td>1</td>\n",
       "    </tr>\n",
       "    <tr>\n",
       "      <th>3</th>\n",
       "      <td>Grumpier Old Men (1995)</td>\n",
       "      <td>Comedy|Romance</td>\n",
       "      <td>2</td>\n",
       "    </tr>\n",
       "    <tr>\n",
       "      <th>4</th>\n",
       "      <td>Waiting to Exhale (1995)</td>\n",
       "      <td>Comedy|Drama|Romance</td>\n",
       "      <td>3</td>\n",
       "    </tr>\n",
       "    <tr>\n",
       "      <th>5</th>\n",
       "      <td>Father of the Bride Part II (1995)</td>\n",
       "      <td>Comedy</td>\n",
       "      <td>4</td>\n",
       "    </tr>\n",
       "  </tbody>\n",
       "</table>\n",
       "</div>"
      ],
      "text/plain": [
       "                                      title  \\\n",
       "movieId                                       \n",
       "1                          Toy Story (1995)   \n",
       "2                            Jumanji (1995)   \n",
       "3                   Grumpier Old Men (1995)   \n",
       "4                  Waiting to Exhale (1995)   \n",
       "5        Father of the Bride Part II (1995)   \n",
       "\n",
       "                                              genres  id  \n",
       "movieId                                                   \n",
       "1        Adventure|Animation|Children|Comedy|Fantasy   0  \n",
       "2                         Adventure|Children|Fantasy   1  \n",
       "3                                     Comedy|Romance   2  \n",
       "4                               Comedy|Drama|Romance   3  \n",
       "5                                             Comedy   4  "
      ]
     },
     "execution_count": 3,
     "metadata": {},
     "output_type": "execute_result"
    }
   ],
   "source": [
    "# note that some movieIds are lacking data, let's condense them, using the Ids in movies\n",
    "movies['id'] = movies.index\n",
    "movies = movies.set_index('movieId')\n",
    "movies.head(5)"
   ]
  },
  {
   "cell_type": "code",
   "execution_count": 4,
   "metadata": {
    "collapsed": false
   },
   "outputs": [
    {
     "data": {
      "text/html": [
       "<div>\n",
       "<table border=\"1\" class=\"dataframe\">\n",
       "  <thead>\n",
       "    <tr style=\"text-align: right;\">\n",
       "      <th></th>\n",
       "      <th>title</th>\n",
       "      <th>genres</th>\n",
       "      <th>id</th>\n",
       "    </tr>\n",
       "    <tr>\n",
       "      <th>movieId</th>\n",
       "      <th></th>\n",
       "      <th></th>\n",
       "      <th></th>\n",
       "    </tr>\n",
       "  </thead>\n",
       "  <tbody>\n",
       "    <tr>\n",
       "      <th>159690</th>\n",
       "      <td>Teenage Mutant Ninja Turtles: Out of the Shado...</td>\n",
       "      <td>Action|Adventure|Comedy</td>\n",
       "      <td>9095</td>\n",
       "    </tr>\n",
       "    <tr>\n",
       "      <th>159755</th>\n",
       "      <td>Popstar: Never Stop Never Stopping (2016)</td>\n",
       "      <td>Comedy</td>\n",
       "      <td>9096</td>\n",
       "    </tr>\n",
       "    <tr>\n",
       "      <th>159858</th>\n",
       "      <td>The Conjuring 2 (2016)</td>\n",
       "      <td>Horror</td>\n",
       "      <td>9097</td>\n",
       "    </tr>\n",
       "    <tr>\n",
       "      <th>159972</th>\n",
       "      <td>Approaching the Unknown (2016)</td>\n",
       "      <td>Drama|Sci-Fi|Thriller</td>\n",
       "      <td>9098</td>\n",
       "    </tr>\n",
       "    <tr>\n",
       "      <th>160080</th>\n",
       "      <td>Ghostbusters (2016)</td>\n",
       "      <td>Action|Comedy|Horror|Sci-Fi</td>\n",
       "      <td>9099</td>\n",
       "    </tr>\n",
       "    <tr>\n",
       "      <th>160271</th>\n",
       "      <td>Central Intelligence (2016)</td>\n",
       "      <td>Action|Comedy</td>\n",
       "      <td>9100</td>\n",
       "    </tr>\n",
       "    <tr>\n",
       "      <th>160438</th>\n",
       "      <td>Jason Bourne (2016)</td>\n",
       "      <td>Action</td>\n",
       "      <td>9101</td>\n",
       "    </tr>\n",
       "    <tr>\n",
       "      <th>160440</th>\n",
       "      <td>The Maid's Room (2014)</td>\n",
       "      <td>Thriller</td>\n",
       "      <td>9102</td>\n",
       "    </tr>\n",
       "    <tr>\n",
       "      <th>160563</th>\n",
       "      <td>The Legend of Tarzan (2016)</td>\n",
       "      <td>Action|Adventure</td>\n",
       "      <td>9103</td>\n",
       "    </tr>\n",
       "    <tr>\n",
       "      <th>160565</th>\n",
       "      <td>The Purge: Election Year (2016)</td>\n",
       "      <td>Action|Horror|Sci-Fi</td>\n",
       "      <td>9104</td>\n",
       "    </tr>\n",
       "    <tr>\n",
       "      <th>160567</th>\n",
       "      <td>Mike &amp; Dave Need Wedding Dates (2016)</td>\n",
       "      <td>Comedy</td>\n",
       "      <td>9105</td>\n",
       "    </tr>\n",
       "    <tr>\n",
       "      <th>160590</th>\n",
       "      <td>Survive and Advance (2013)</td>\n",
       "      <td>(no genres listed)</td>\n",
       "      <td>9106</td>\n",
       "    </tr>\n",
       "    <tr>\n",
       "      <th>160656</th>\n",
       "      <td>Tallulah (2016)</td>\n",
       "      <td>Drama</td>\n",
       "      <td>9107</td>\n",
       "    </tr>\n",
       "    <tr>\n",
       "      <th>160718</th>\n",
       "      <td>Piper (2016)</td>\n",
       "      <td>Animation</td>\n",
       "      <td>9108</td>\n",
       "    </tr>\n",
       "    <tr>\n",
       "      <th>160954</th>\n",
       "      <td>Nerve (2016)</td>\n",
       "      <td>Drama|Thriller</td>\n",
       "      <td>9109</td>\n",
       "    </tr>\n",
       "    <tr>\n",
       "      <th>161084</th>\n",
       "      <td>My Friend Rockefeller (2015)</td>\n",
       "      <td>Documentary</td>\n",
       "      <td>9110</td>\n",
       "    </tr>\n",
       "    <tr>\n",
       "      <th>161155</th>\n",
       "      <td>Sunspring (2016)</td>\n",
       "      <td>Sci-Fi</td>\n",
       "      <td>9111</td>\n",
       "    </tr>\n",
       "    <tr>\n",
       "      <th>161336</th>\n",
       "      <td>Author: The JT LeRoy Story (2016)</td>\n",
       "      <td>Documentary</td>\n",
       "      <td>9112</td>\n",
       "    </tr>\n",
       "    <tr>\n",
       "      <th>161582</th>\n",
       "      <td>Hell or High Water (2016)</td>\n",
       "      <td>Crime|Drama</td>\n",
       "      <td>9113</td>\n",
       "    </tr>\n",
       "    <tr>\n",
       "      <th>161594</th>\n",
       "      <td>Kingsglaive: Final Fantasy XV (2016)</td>\n",
       "      <td>Action|Adventure|Animation|Drama|Fantasy|Sci-Fi</td>\n",
       "      <td>9114</td>\n",
       "    </tr>\n",
       "    <tr>\n",
       "      <th>161830</th>\n",
       "      <td>Body (2015)</td>\n",
       "      <td>Drama|Horror|Thriller</td>\n",
       "      <td>9115</td>\n",
       "    </tr>\n",
       "    <tr>\n",
       "      <th>161918</th>\n",
       "      <td>Sharknado 4: The 4th Awakens (2016)</td>\n",
       "      <td>Action|Adventure|Horror|Sci-Fi</td>\n",
       "      <td>9116</td>\n",
       "    </tr>\n",
       "    <tr>\n",
       "      <th>161944</th>\n",
       "      <td>The Last Brickmaker in America (2001)</td>\n",
       "      <td>Drama</td>\n",
       "      <td>9117</td>\n",
       "    </tr>\n",
       "    <tr>\n",
       "      <th>162376</th>\n",
       "      <td>Stranger Things</td>\n",
       "      <td>Drama</td>\n",
       "      <td>9118</td>\n",
       "    </tr>\n",
       "    <tr>\n",
       "      <th>162542</th>\n",
       "      <td>Rustom (2016)</td>\n",
       "      <td>Romance|Thriller</td>\n",
       "      <td>9119</td>\n",
       "    </tr>\n",
       "    <tr>\n",
       "      <th>162672</th>\n",
       "      <td>Mohenjo Daro (2016)</td>\n",
       "      <td>Adventure|Drama|Romance</td>\n",
       "      <td>9120</td>\n",
       "    </tr>\n",
       "    <tr>\n",
       "      <th>163056</th>\n",
       "      <td>Shin Godzilla (2016)</td>\n",
       "      <td>Action|Adventure|Fantasy|Sci-Fi</td>\n",
       "      <td>9121</td>\n",
       "    </tr>\n",
       "    <tr>\n",
       "      <th>163949</th>\n",
       "      <td>The Beatles: Eight Days a Week - The Touring Y...</td>\n",
       "      <td>Documentary</td>\n",
       "      <td>9122</td>\n",
       "    </tr>\n",
       "    <tr>\n",
       "      <th>164977</th>\n",
       "      <td>The Gay Desperado (1936)</td>\n",
       "      <td>Comedy</td>\n",
       "      <td>9123</td>\n",
       "    </tr>\n",
       "    <tr>\n",
       "      <th>164979</th>\n",
       "      <td>Women of '69, Unboxed</td>\n",
       "      <td>Documentary</td>\n",
       "      <td>9124</td>\n",
       "    </tr>\n",
       "  </tbody>\n",
       "</table>\n",
       "</div>"
      ],
      "text/plain": [
       "                                                     title  \\\n",
       "movieId                                                      \n",
       "159690   Teenage Mutant Ninja Turtles: Out of the Shado...   \n",
       "159755           Popstar: Never Stop Never Stopping (2016)   \n",
       "159858                              The Conjuring 2 (2016)   \n",
       "159972                      Approaching the Unknown (2016)   \n",
       "160080                                 Ghostbusters (2016)   \n",
       "160271                         Central Intelligence (2016)   \n",
       "160438                                 Jason Bourne (2016)   \n",
       "160440                              The Maid's Room (2014)   \n",
       "160563                         The Legend of Tarzan (2016)   \n",
       "160565                     The Purge: Election Year (2016)   \n",
       "160567               Mike & Dave Need Wedding Dates (2016)   \n",
       "160590                          Survive and Advance (2013)   \n",
       "160656                                     Tallulah (2016)   \n",
       "160718                                        Piper (2016)   \n",
       "160954                                        Nerve (2016)   \n",
       "161084                        My Friend Rockefeller (2015)   \n",
       "161155                                    Sunspring (2016)   \n",
       "161336                   Author: The JT LeRoy Story (2016)   \n",
       "161582                           Hell or High Water (2016)   \n",
       "161594                Kingsglaive: Final Fantasy XV (2016)   \n",
       "161830                                         Body (2015)   \n",
       "161918                 Sharknado 4: The 4th Awakens (2016)   \n",
       "161944               The Last Brickmaker in America (2001)   \n",
       "162376                                     Stranger Things   \n",
       "162542                                       Rustom (2016)   \n",
       "162672                                 Mohenjo Daro (2016)   \n",
       "163056                                Shin Godzilla (2016)   \n",
       "163949   The Beatles: Eight Days a Week - The Touring Y...   \n",
       "164977                            The Gay Desperado (1936)   \n",
       "164979                               Women of '69, Unboxed   \n",
       "\n",
       "                                                  genres    id  \n",
       "movieId                                                         \n",
       "159690                           Action|Adventure|Comedy  9095  \n",
       "159755                                            Comedy  9096  \n",
       "159858                                            Horror  9097  \n",
       "159972                             Drama|Sci-Fi|Thriller  9098  \n",
       "160080                       Action|Comedy|Horror|Sci-Fi  9099  \n",
       "160271                                     Action|Comedy  9100  \n",
       "160438                                            Action  9101  \n",
       "160440                                          Thriller  9102  \n",
       "160563                                  Action|Adventure  9103  \n",
       "160565                              Action|Horror|Sci-Fi  9104  \n",
       "160567                                            Comedy  9105  \n",
       "160590                                (no genres listed)  9106  \n",
       "160656                                             Drama  9107  \n",
       "160718                                         Animation  9108  \n",
       "160954                                    Drama|Thriller  9109  \n",
       "161084                                       Documentary  9110  \n",
       "161155                                            Sci-Fi  9111  \n",
       "161336                                       Documentary  9112  \n",
       "161582                                       Crime|Drama  9113  \n",
       "161594   Action|Adventure|Animation|Drama|Fantasy|Sci-Fi  9114  \n",
       "161830                             Drama|Horror|Thriller  9115  \n",
       "161918                    Action|Adventure|Horror|Sci-Fi  9116  \n",
       "161944                                             Drama  9117  \n",
       "162376                                             Drama  9118  \n",
       "162542                                  Romance|Thriller  9119  \n",
       "162672                           Adventure|Drama|Romance  9120  \n",
       "163056                   Action|Adventure|Fantasy|Sci-Fi  9121  \n",
       "163949                                       Documentary  9122  \n",
       "164977                                            Comedy  9123  \n",
       "164979                                       Documentary  9124  "
      ]
     },
     "execution_count": 4,
     "metadata": {},
     "output_type": "execute_result"
    }
   ],
   "source": [
    "movies.tail(30)"
   ]
  },
  {
   "cell_type": "code",
   "execution_count": 5,
   "metadata": {
    "collapsed": false
   },
   "outputs": [
    {
     "name": "stdout",
     "output_type": "stream",
     "text": [
      "(9066,)\n"
     ]
    }
   ],
   "source": [
    "# use the mapped Id in the rating table\n",
    "ratings['id'] = movies.loc[ratings.movieId].id.values\n",
    "\n",
    "# looks like there are some movies never got rated\n",
    "print(ratings.movieId.unique().shape)"
   ]
  },
  {
   "cell_type": "code",
   "execution_count": 6,
   "metadata": {
    "collapsed": false
   },
   "outputs": [
    {
     "data": {
      "text/html": [
       "<div>\n",
       "<table border=\"1\" class=\"dataframe\">\n",
       "  <thead>\n",
       "    <tr style=\"text-align: right;\">\n",
       "      <th></th>\n",
       "      <th>userId</th>\n",
       "      <th>movieId</th>\n",
       "      <th>tag</th>\n",
       "      <th>timestamp</th>\n",
       "    </tr>\n",
       "  </thead>\n",
       "  <tbody>\n",
       "    <tr>\n",
       "      <th>0</th>\n",
       "      <td>15</td>\n",
       "      <td>339</td>\n",
       "      <td>sandra 'boring' bullock</td>\n",
       "      <td>1138537770</td>\n",
       "    </tr>\n",
       "    <tr>\n",
       "      <th>1</th>\n",
       "      <td>15</td>\n",
       "      <td>1955</td>\n",
       "      <td>dentist</td>\n",
       "      <td>1193435061</td>\n",
       "    </tr>\n",
       "    <tr>\n",
       "      <th>2</th>\n",
       "      <td>15</td>\n",
       "      <td>7478</td>\n",
       "      <td>Cambodia</td>\n",
       "      <td>1170560997</td>\n",
       "    </tr>\n",
       "    <tr>\n",
       "      <th>3</th>\n",
       "      <td>15</td>\n",
       "      <td>32892</td>\n",
       "      <td>Russian</td>\n",
       "      <td>1170626366</td>\n",
       "    </tr>\n",
       "    <tr>\n",
       "      <th>4</th>\n",
       "      <td>15</td>\n",
       "      <td>34162</td>\n",
       "      <td>forgettable</td>\n",
       "      <td>1141391765</td>\n",
       "    </tr>\n",
       "  </tbody>\n",
       "</table>\n",
       "</div>"
      ],
      "text/plain": [
       "   userId  movieId                      tag   timestamp\n",
       "0      15      339  sandra 'boring' bullock  1138537770\n",
       "1      15     1955                  dentist  1193435061\n",
       "2      15     7478                 Cambodia  1170560997\n",
       "3      15    32892                  Russian  1170626366\n",
       "4      15    34162              forgettable  1141391765"
      ]
     },
     "execution_count": 6,
     "metadata": {},
     "output_type": "execute_result"
    }
   ],
   "source": [
    "tags.head(5)"
   ]
  },
  {
   "cell_type": "code",
   "execution_count": 7,
   "metadata": {
    "collapsed": false
   },
   "outputs": [
    {
     "data": {
      "text/html": [
       "<div>\n",
       "<table border=\"1\" class=\"dataframe\">\n",
       "  <thead>\n",
       "    <tr style=\"text-align: right;\">\n",
       "      <th></th>\n",
       "      <th>userId</th>\n",
       "      <th>movieId</th>\n",
       "      <th>rating</th>\n",
       "      <th>timestamp</th>\n",
       "      <th>id</th>\n",
       "    </tr>\n",
       "  </thead>\n",
       "  <tbody>\n",
       "    <tr>\n",
       "      <th>0</th>\n",
       "      <td>1</td>\n",
       "      <td>31</td>\n",
       "      <td>2.5</td>\n",
       "      <td>1260759144</td>\n",
       "      <td>30</td>\n",
       "    </tr>\n",
       "    <tr>\n",
       "      <th>1</th>\n",
       "      <td>1</td>\n",
       "      <td>1029</td>\n",
       "      <td>3.0</td>\n",
       "      <td>1260759179</td>\n",
       "      <td>833</td>\n",
       "    </tr>\n",
       "    <tr>\n",
       "      <th>2</th>\n",
       "      <td>1</td>\n",
       "      <td>1061</td>\n",
       "      <td>3.0</td>\n",
       "      <td>1260759182</td>\n",
       "      <td>859</td>\n",
       "    </tr>\n",
       "    <tr>\n",
       "      <th>3</th>\n",
       "      <td>1</td>\n",
       "      <td>1129</td>\n",
       "      <td>2.0</td>\n",
       "      <td>1260759185</td>\n",
       "      <td>906</td>\n",
       "    </tr>\n",
       "    <tr>\n",
       "      <th>4</th>\n",
       "      <td>1</td>\n",
       "      <td>1172</td>\n",
       "      <td>4.0</td>\n",
       "      <td>1260759205</td>\n",
       "      <td>931</td>\n",
       "    </tr>\n",
       "  </tbody>\n",
       "</table>\n",
       "</div>"
      ],
      "text/plain": [
       "   userId  movieId  rating   timestamp   id\n",
       "0       1       31     2.5  1260759144   30\n",
       "1       1     1029     3.0  1260759179  833\n",
       "2       1     1061     3.0  1260759182  859\n",
       "3       1     1129     2.0  1260759185  906\n",
       "4       1     1172     4.0  1260759205  931"
      ]
     },
     "execution_count": 7,
     "metadata": {},
     "output_type": "execute_result"
    }
   ],
   "source": [
    "ratings.head(5)"
   ]
  },
  {
   "cell_type": "code",
   "execution_count": 8,
   "metadata": {
    "collapsed": false
   },
   "outputs": [
    {
     "data": {
      "text/plain": [
       "(9123, 672)"
      ]
     },
     "execution_count": 8,
     "metadata": {},
     "output_type": "execute_result"
    }
   ],
   "source": [
    "# user_movie rating matrix\n",
    "user_movie = sparse.coo_matrix((ratings.rating, (ratings.userId, ratings.id)))\n",
    "movie_user = user_movie.transpose()\n",
    "movie_user.shape"
   ]
  },
  {
   "cell_type": "code",
   "execution_count": 9,
   "metadata": {
    "collapsed": true
   },
   "outputs": [],
   "source": [
    "# build user to user similarity \n",
    "# this generalize the user2user_fast above\n",
    "# @param rating_matrix: rating_matrix[i][j] is user i rating to movie j\n",
    "def compute_similarity(rating_matrix):\n",
    "    # create a matrix that represent row similarity\n",
    "    (N, M) = rating_matrix.shape # row/col index starts from 1\n",
    "    rating_matrix = rating_matrix.tocsc()\n",
    "    \n",
    "    # dot products\n",
    "    inner = rating_matrix * rating_matrix.transpose()\n",
    "    norms = np.sqrt(inner.diagonal())\n",
    "    \n",
    "    # there are some movies not rated, we should set the rating to a dummy value (1.0) when computing cosine similarity\n",
    "    norms[norms == 0.0] = 1.0\n",
    "    norms = norms.reshape((N, 1))\n",
    "    norms = sparse.csc_matrix(norms)\n",
    "    denom = norms * norms.transpose()\n",
    "    \n",
    "    return inner / denom"
   ]
  },
  {
   "cell_type": "code",
   "execution_count": null,
   "metadata": {
    "collapsed": false
   },
   "outputs": [],
   "source": [
    "user_sim = compute_similarity(user_movie)"
   ]
  },
  {
   "cell_type": "code",
   "execution_count": null,
   "metadata": {
    "collapsed": false
   },
   "outputs": [],
   "source": [
    "movie_sim = compute_similarity(movie_user)"
   ]
  },
  {
   "cell_type": "code",
   "execution_count": null,
   "metadata": {
    "collapsed": false
   },
   "outputs": [],
   "source": [
    "# top N similarity by distance\n",
    "sim.shape"
   ]
  },
  {
   "cell_type": "code",
   "execution_count": null,
   "metadata": {
    "collapsed": true
   },
   "outputs": [],
   "source": [
    "def getTopN_mapped(mapped_id, sim, n=10):\n",
    "    s = np.squeeze(np.asarray(sim[mapped_id, :]))\n",
    "    s[mapped_id] = -1 # set itself to -1 to exclude\n",
    "    topn_index = np.argsort(s)[::-1][:n] # [::-1] reverse to descending order\n",
    "    return topn_index\n",
    "\n",
    "def getTopN(movie_id, movies, sim, n=10):\n",
    "    # map the movie_id to id\n",
    "    mapped_id = movies.loc[movie_id].id\n",
    "    topn_index = getTopN_mapped(mapped_id, sim, n)\n",
    "    return movies[movies.id.isin(topn_index)]"
   ]
  },
  {
   "cell_type": "code",
   "execution_count": null,
   "metadata": {
    "collapsed": false
   },
   "outputs": [],
   "source": [
    "movie_id=90603\n",
    "print(\"Query movie is: \")\n",
    "movies.loc[[movie_id]]"
   ]
  },
  {
   "cell_type": "code",
   "execution_count": null,
   "metadata": {
    "collapsed": false
   },
   "outputs": [],
   "source": [
    "getTopN(movie_id, movies, sim)"
   ]
  },
  {
   "cell_type": "code",
   "execution_count": null,
   "metadata": {
    "collapsed": false
   },
   "outputs": [],
   "source": [
    "# sanity check, pick two movies and compute their similarity manually\n",
    "m1 = 12\n",
    "m2 = 34\n",
    "m1id = movies.loc[m1].id\n",
    "m2id = movies.loc[m2].id\n",
    "movies.loc[[m1, m2]]"
   ]
  },
  {
   "cell_type": "code",
   "execution_count": null,
   "metadata": {
    "collapsed": false
   },
   "outputs": [],
   "source": [
    "# similarity computed from the function\n",
    "sim[m1id, m2id]"
   ]
  },
  {
   "cell_type": "code",
   "execution_count": null,
   "metadata": {
    "collapsed": false
   },
   "outputs": [],
   "source": [
    "# compute similarity by hand\n",
    "tmp = movie_user.tolil()\n",
    "v1 = tmp[m1id]\n",
    "v2 = tmp[m2id]"
   ]
  },
  {
   "cell_type": "code",
   "execution_count": null,
   "metadata": {
    "collapsed": false
   },
   "outputs": [],
   "source": [
    "numerator = v1.dot(v2.transpose()).toarray().reshape(-1)\n",
    "denom = (sparse.linalg.norm(v1) * sparse.linalg.norm(v2))"
   ]
  },
  {
   "cell_type": "code",
   "execution_count": null,
   "metadata": {
    "collapsed": false
   },
   "outputs": [],
   "source": [
    "numerator[0] / denom # matches!!"
   ]
  },
  {
   "cell_type": "code",
   "execution_count": null,
   "metadata": {
    "collapsed": false
   },
   "outputs": [],
   "source": [
    "getTopN(356, movies, sim) # forrest gump"
   ]
  },
  {
   "cell_type": "code",
   "execution_count": null,
   "metadata": {
    "collapsed": false
   },
   "outputs": [],
   "source": [
    "getTopN(10, movies, sim) # forrest gump"
   ]
  },
  {
   "cell_type": "code",
   "execution_count": null,
   "metadata": {
    "collapsed": false
   },
   "outputs": [],
   "source": [
    "sparsity = 1.0*len(user_movie.nonzero()[0])/(user_movie.shape[0] * user_movie.shape[1])\n",
    "print(\"Sparsity = \", sparsity)"
   ]
  },
  {
   "cell_type": "code",
   "execution_count": 17,
   "metadata": {
    "collapsed": false
   },
   "outputs": [
    {
     "name": "stdout",
     "output_type": "stream",
     "text": [
      "The autoreload extension is already loaded. To reload it, use:\n",
      "  %reload_ext autoreload\n"
     ]
    }
   ],
   "source": [
    "%load_ext autoreload\n",
    "%autoreload 2"
   ]
  },
  {
   "cell_type": "code",
   "execution_count": 63,
   "metadata": {
    "collapsed": false
   },
   "outputs": [],
   "source": [
    "from evaluation import *\n",
    "train, test = train_test_split(user_movie)"
   ]
  },
  {
   "cell_type": "code",
   "execution_count": 11,
   "metadata": {
    "collapsed": false
   },
   "outputs": [
    {
     "data": {
      "text/plain": [
       "(<672x9123 sparse matrix of type '<class 'numpy.float64'>'\n",
       " \twith 99757 stored elements in LInked List format>,\n",
       " <672x9123 sparse matrix of type '<class 'numpy.float64'>'\n",
       " \twith 247 stored elements in LInked List format>)"
      ]
     },
     "execution_count": 11,
     "metadata": {},
     "output_type": "execute_result"
    }
   ],
   "source": [
    "train, test"
   ]
  },
  {
   "cell_type": "code",
   "execution_count": 64,
   "metadata": {
    "collapsed": true
   },
   "outputs": [],
   "source": [
    "train_user_sim = compute_similarity(train)"
   ]
  },
  {
   "cell_type": "markdown",
   "metadata": {},
   "source": [
    "For user-based collaborative filtering, we predict that a user's $u$'s rating for item $i$ is given by the weighted sum of all other users' ratings for item $i$ where the weighting is the cosine similarity between the each user and the input user $u$, normalized by the number of ${r_{u'i}}$ ratings:\n",
    "\n",
    "$$\n",
    "r_{u'i} = \\frac{\\sum_{u'}sim(u, u')r_{u'i}}{\\sum_{u'}\\lvert sim(u, u')\\rvert}\n",
    "$$"
   ]
  },
  {
   "cell_type": "code",
   "execution_count": 65,
   "metadata": {
    "collapsed": false,
    "scrolled": true
   },
   "outputs": [
    {
     "data": {
      "text/plain": [
       "((672, 9123), (672, 672), numpy.matrixlib.defmatrix.matrix)"
      ]
     },
     "execution_count": 65,
     "metadata": {},
     "output_type": "execute_result"
    }
   ],
   "source": [
    "train.shape, train_user_sim.shape, type(train_user_sim)"
   ]
  },
  {
   "cell_type": "code",
   "execution_count": 66,
   "metadata": {
    "collapsed": false,
    "scrolled": true
   },
   "outputs": [],
   "source": [
    "user_prediction = predict_similarity(train, train_user_sim)"
   ]
  },
  {
   "cell_type": "code",
   "execution_count": 67,
   "metadata": {
    "collapsed": false
   },
   "outputs": [
    {
     "name": "stdout",
     "output_type": "stream",
     "text": [
      "User-based CF MSE: 15.9119433198\n"
     ]
    }
   ],
   "source": [
    "print('User-based CF MSE: ' + str(get_mse(user_prediction, test.todense())))"
   ]
  },
  {
   "cell_type": "code",
   "execution_count": null,
   "metadata": {
    "collapsed": true
   },
   "outputs": [],
   "source": []
  }
 ],
 "metadata": {
  "kernelspec": {
   "display_name": "Python 3",
   "language": "python",
   "name": "python3"
  },
  "language_info": {
   "codemirror_mode": {
    "name": "ipython",
    "version": 3
   },
   "file_extension": ".py",
   "mimetype": "text/x-python",
   "name": "python",
   "nbconvert_exporter": "python",
   "pygments_lexer": "ipython3",
   "version": "3.4.3"
  }
 },
 "nbformat": 4,
 "nbformat_minor": 1
}
