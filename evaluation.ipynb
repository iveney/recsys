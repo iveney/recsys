{
 "cells": [
  {
   "cell_type": "code",
   "execution_count": 16,
   "metadata": {
    "collapsed": false
   },
   "outputs": [],
   "source": [
    "import numpy as np\n",
    "from scipy import sparse\n",
    "from sklearn.metrics import mean_squared_error\n",
    "\n",
    "# randomly choose some users and remove their rating as test data\n",
    "def train_test_split(data, size=10):\n",
    "    data = data.tolil()\n",
    "    test = sparse.lil_matrix(np.zeros(data.shape))\n",
    "    train = data.copy()\n",
    "    for user in range(data.shape[0]):\n",
    "        row = data[user, :].nonzero()[0]\n",
    "        if len(row) == 0:\n",
    "            continue\n",
    "        test_ratings = np.random.choice(row, \n",
    "                                        size, \n",
    "                                        replace=False)\n",
    "        train[user, test_ratings] = 0.\n",
    "        test[user, test_ratings] = data[user, test_ratings]\n",
    "        \n",
    "    # Test and training are truly disjoint\n",
    "    assert(len((train.multiply(test)).nonzero()[0]) == 0)\n",
    "    return train, test\n",
    "\n",
    "def predict_similarity(user_movie, similarity):\n",
    "    norm = np.array(np.abs(train_user_sim).sum(axis=1))\n",
    "    norm[0] = 1 # hack: index-0 is meaning less, just to avoid divide by zero\n",
    "    user_movie = sparse.csc_matrix(user_movie)\n",
    "    similarity = sparse.csc_matrix(similarity)\n",
    "    return similarity * user_movie / norm\n",
    "\n",
    "def get_mse(pred, actual):\n",
    "    # Ignore nonzero terms.\n",
    "    pred = pred[actual.nonzero()].flatten()\n",
    "    actual = actual[actual.nonzero()].flatten()\n",
    "    return mean_squared_error(pred, actual)"
   ]
  },
  {
   "cell_type": "code",
   "execution_count": null,
   "metadata": {
    "collapsed": true
   },
   "outputs": [],
   "source": []
  }
 ],
 "metadata": {
  "kernelspec": {
   "display_name": "Python 3",
   "language": "python",
   "name": "python3"
  },
  "language_info": {
   "codemirror_mode": {
    "name": "ipython",
    "version": 3
   },
   "file_extension": ".py",
   "mimetype": "text/x-python",
   "name": "python",
   "nbconvert_exporter": "python",
   "pygments_lexer": "ipython3",
   "version": "3.4.3"
  }
 },
 "nbformat": 4,
 "nbformat_minor": 1
}
