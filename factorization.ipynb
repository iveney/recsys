{
 "cells": [
  {
   "cell_type": "code",
   "execution_count": 9,
   "metadata": {
    "collapsed": true
   },
   "outputs": [],
   "source": [
    "import pandas as pd\n",
    "import numpy as np\n",
    "from numpy.linalg import svd\n",
    "from scipy import sparse\n",
    "from scipy.sparse.linalg import norm"
   ]
  },
  {
   "cell_type": "code",
   "execution_count": 2,
   "metadata": {
    "collapsed": true
   },
   "outputs": [],
   "source": [
    "movies = pd.read_csv('ml-latest-small/movies.csv')\n",
    "tags = pd.read_csv('ml-latest-small/tags.csv')\n",
    "ratings = pd.read_csv('ml-latest-small/ratings.csv')\n",
    "links = pd.read_csv('ml-latest-small/links.csv')"
   ]
  },
  {
   "cell_type": "code",
   "execution_count": 4,
   "metadata": {
    "collapsed": false
   },
   "outputs": [],
   "source": [
    "# tiny factorization example\n",
    "mat = np.array([\n",
    "    [4, 3, 0, 0, 5, 0],\n",
    "    [5, 0, 4, 0, 4, 0],\n",
    "    [4, 0, 5, 3, 4, 0],\n",
    "    [0, 3, 0, 0, 0, 5],\n",
    "    [0, 4, 0, 0 ,0, 4],\n",
    "    [0, 0, 2, 4, 0, 5],\n",
    "]\n",
    ")"
   ]
  },
  {
   "cell_type": "code",
   "execution_count": 8,
   "metadata": {
    "collapsed": false
   },
   "outputs": [
    {
     "data": {
      "text/plain": [
       "array([[4, 3, 0, 0, 5, 0],\n",
       "       [5, 0, 4, 0, 4, 0],\n",
       "       [4, 0, 5, 3, 4, 0],\n",
       "       [0, 3, 0, 0, 0, 5],\n",
       "       [0, 4, 0, 0, 0, 4]])"
      ]
     },
     "execution_count": 8,
     "metadata": {},
     "output_type": "execute_result"
    }
   ],
   "source": [
    "mat_r = mat[:5, :] # smaller matrix to distinguish num user and items\n",
    "mat_r "
   ]
  },
  {
   "cell_type": "code",
   "execution_count": 16,
   "metadata": {
    "collapsed": false
   },
   "outputs": [],
   "source": [
    "U, s, V = svd(mat_r, full_matrices=False)"
   ]
  },
  {
   "cell_type": "code",
   "execution_count": 31,
   "metadata": {
    "collapsed": false
   },
   "outputs": [
    {
     "data": {
      "text/plain": [
       "array([[  4.00000000e+00,   3.00000000e+00,  -2.04909606e-16,\n",
       "          3.12534467e-16,   5.00000000e+00,   1.99773489e-15],\n",
       "       [  5.00000000e+00,   1.98169375e-15,   4.00000000e+00,\n",
       "          1.63618791e-15,   4.00000000e+00,  -2.81492757e-15],\n",
       "       [  4.00000000e+00,  -2.21489334e-15,   5.00000000e+00,\n",
       "          3.00000000e+00,   4.00000000e+00,   3.04973009e-15],\n",
       "       [ -3.56284766e-16,   3.00000000e+00,  -1.43567742e-15,\n",
       "         -1.37033079e-16,   1.71413571e-16,   5.00000000e+00],\n",
       "       [  1.01828268e-15,   4.00000000e+00,  -1.27675648e-15,\n",
       "         -1.24900090e-16,   1.44328993e-15,   4.00000000e+00]])"
      ]
     },
     "execution_count": 31,
     "metadata": {},
     "output_type": "execute_result"
    }
   ],
   "source": [
    "np.dot(U, np.dot(np.diag(s), V))"
   ]
  },
  {
   "cell_type": "code",
   "execution_count": 33,
   "metadata": {
    "collapsed": false
   },
   "outputs": [
    {
     "data": {
      "text/plain": [
       "((5, 5), (5,), (5, 6))"
      ]
     },
     "execution_count": 33,
     "metadata": {},
     "output_type": "execute_result"
    }
   ],
   "source": [
    "U.shape, s.shape, V.shape"
   ]
  },
  {
   "cell_type": "code",
   "execution_count": null,
   "metadata": {
    "collapsed": true
   },
   "outputs": [],
   "source": []
  }
 ],
 "metadata": {
  "kernelspec": {
   "display_name": "Python 3",
   "language": "python",
   "name": "python3"
  },
  "language_info": {
   "codemirror_mode": {
    "name": "ipython",
    "version": 3
   },
   "file_extension": ".py",
   "mimetype": "text/x-python",
   "name": "python",
   "nbconvert_exporter": "python",
   "pygments_lexer": "ipython3",
   "version": "3.4.3"
  }
 },
 "nbformat": 4,
 "nbformat_minor": 1
}
